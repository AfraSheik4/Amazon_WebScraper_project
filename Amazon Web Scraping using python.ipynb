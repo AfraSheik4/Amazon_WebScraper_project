{
 "cells": [
  {
   "cell_type": "code",
   "execution_count": 48,
   "id": "0b0dc24c-7fdb-4d70-815c-050cac1393f3",
   "metadata": {},
   "outputs": [],
   "source": [
    "from bs4 import BeautifulSoup\n",
    "import requests\n",
    "import time\n",
    "import datetime"
   ]
  },
  {
   "cell_type": "code",
   "execution_count": 49,
   "id": "baf5836e-04fe-4777-aca6-183c3b2be4d3",
   "metadata": {},
   "outputs": [
    {
     "name": "stdout",
     "output_type": "stream",
     "text": [
      "ANUA 10% Niacinamide+ 4% Tranexamic Acid Serum, Ceramide, Hyaluronic Acid, Vitamin B12 Natural color, Korean Glass Skin, Fragrance-Free, Korean Skincare, 30ml /1.01 fl.oz.\n",
      "AED60.00\n"
     ]
    }
   ],
   "source": [
    "url='https://www.amazon.ae/gp/aw/d/B0CLLV2T1P/?_encoding=UTF8&pd_rd_plhdr=t&aaxitk=6be6a6774e44057af9bb7ff13921f9cf&hsa_cr_id=0&qid=1748764363&sr=1-1-e0fa1fdd-d857-4087-adda-5bd576b25987&ref_=sbx_be_s_sparkle_lsi4d_asin_0_bkgd&pd_rd_w=MNDP4&content-id=amzn1.sym.5c27a550-05a0-4f4f-b075-daf9509b9f36%3Aamzn1.sym.5c27a550-05a0-4f4f-b075-daf9509b9f36&pf_rd_p=5c27a550-05a0-4f4f-b075-daf9509b9f36&pf_rd_r=3GDX09ZR7AG8CAQ9WGQX&pd_rd_wg=a9Tqr&pd_rd_r=017e3f52-d787-46e6-827e-13c8d3161a08'\n",
    "headers={ \"User-Agent\": \"Mozilla/5.0 (Windows NT 10.0; Win64; x64) AppleWebKit/537.36 (KHTML, like Gecko) Chrome/136.0.0.0 Safari/537.36\"}\n",
    "\n",
    "page = requests.get(url,headers=headers)\n",
    "soup1= BeautifulSoup(page.content,'html.parser')\n",
    "\n",
    "soup2 = BeautifulSoup(soup1.prettify(),'html.parser')\n",
    "\n",
    "title = soup2.find(id=\"productTitle\").get_text().strip()\n",
    "\n",
    "price_symbol = soup2.find(class_='a-price-symbol').get_text(strip=True)\n",
    "price_whole = soup2.find(class_='a-price-whole').get_text(strip=True)\n",
    "price_fraction = soup2.find(class_='a-price-fraction').get_text(strip=True)\n",
    "price = f'{price_symbol}{price_whole}{price_fraction}'\n",
    "\n",
    "\n",
    "print(title)\n",
    "print(price)"
   ]
  },
  {
   "cell_type": "code",
   "execution_count": 50,
   "id": "cb69e52e-f8e3-4c6e-a0b4-f0695bd56052",
   "metadata": {},
   "outputs": [
    {
     "name": "stdout",
     "output_type": "stream",
     "text": [
      "ANUA 10% Niacinamide+ 4% Tranexamic Acid Serum, Ceramide, Hyaluronic Acid, Vitamin B12 Natural color, Korean Glass Skin, Fragrance-Free, Korean Skincare, 30ml /1.01 fl.oz.\n",
      "60.00\n"
     ]
    }
   ],
   "source": [
    "#removing the aed from the price\n",
    "price=price[3:]\n",
    "\n",
    "print(title)\n",
    "print(price)"
   ]
  },
  {
   "cell_type": "code",
   "execution_count": 54,
   "id": "13144b10-b98b-4d62-b116-bcad06bed9d3",
   "metadata": {},
   "outputs": [
    {
     "name": "stdout",
     "output_type": "stream",
     "text": [
      "2025-06-01\n"
     ]
    }
   ],
   "source": [
    "import datetime\n",
    "date=datetime.date.today()\n",
    "print(date)"
   ]
  },
  {
   "cell_type": "code",
   "execution_count": 55,
   "id": "05fe1267-962d-4f1a-9d09-216a95b3c126",
   "metadata": {},
   "outputs": [],
   "source": [
    "import csv\n",
    "\n",
    "header = ['Title','Price(AED)','Date']\n",
    "data = [title, price,date]\n",
    "\n",
    "#with open('AmazonWebScrapperDataset.csv','w',newline='',encoding='UTF8') as f:\n",
    "    #writer=csv.writer(f)\n",
    "    #writer.writerow(header)\n",
    "    #writer.writerow(data)"
   ]
  },
  {
   "cell_type": "code",
   "execution_count": 56,
   "id": "39079b9a-8a16-40cc-b27e-5b3579d4c478",
   "metadata": {},
   "outputs": [
    {
     "data": {
      "text/html": [
       "<div>\n",
       "<style scoped>\n",
       "    .dataframe tbody tr th:only-of-type {\n",
       "        vertical-align: middle;\n",
       "    }\n",
       "\n",
       "    .dataframe tbody tr th {\n",
       "        vertical-align: top;\n",
       "    }\n",
       "\n",
       "    .dataframe thead th {\n",
       "        text-align: right;\n",
       "    }\n",
       "</style>\n",
       "<table border=\"1\" class=\"dataframe\">\n",
       "  <thead>\n",
       "    <tr style=\"text-align: right;\">\n",
       "      <th></th>\n",
       "      <th>Title</th>\n",
       "      <th>Price(AED)</th>\n",
       "      <th>Date</th>\n",
       "    </tr>\n",
       "  </thead>\n",
       "  <tbody>\n",
       "    <tr>\n",
       "      <th>0</th>\n",
       "      <td>ANUA 10% Niacinamide+ 4% Tranexamic Acid Serum...</td>\n",
       "      <td>60.0</td>\n",
       "      <td>2025-06-01</td>\n",
       "    </tr>\n",
       "  </tbody>\n",
       "</table>\n",
       "</div>"
      ],
      "text/plain": [
       "                                               Title  Price(AED)        Date\n",
       "0  ANUA 10% Niacinamide+ 4% Tranexamic Acid Serum...        60.0  2025-06-01"
      ]
     },
     "execution_count": 56,
     "metadata": {},
     "output_type": "execute_result"
    }
   ],
   "source": [
    "import pandas as pd\n",
    "\n",
    "df=pd.read_csv(r\"C:\\Users\\affan\\AmazonWebScrapperDataset.csv\")\n",
    "df"
   ]
  },
  {
   "cell_type": "code",
   "execution_count": 58,
   "id": "00c4b49b-eb3c-49f3-a266-b19914328382",
   "metadata": {},
   "outputs": [],
   "source": [
    "#appending data to the csv\n",
    "with open('AmazonWebScrapperDataset.csv','a+',newline='',encoding='UTF8') as f:\n",
    "    writer=csv.writer(f)\n",
    "    writer.writerow(data) (#executed it twice so the data set has repeated twice)"
   ]
  },
  {
   "cell_type": "code",
   "execution_count": 59,
   "id": "15381700-fb3f-4fdb-a496-554d91bf6a65",
   "metadata": {},
   "outputs": [
    {
     "data": {
      "text/html": [
       "<div>\n",
       "<style scoped>\n",
       "    .dataframe tbody tr th:only-of-type {\n",
       "        vertical-align: middle;\n",
       "    }\n",
       "\n",
       "    .dataframe tbody tr th {\n",
       "        vertical-align: top;\n",
       "    }\n",
       "\n",
       "    .dataframe thead th {\n",
       "        text-align: right;\n",
       "    }\n",
       "</style>\n",
       "<table border=\"1\" class=\"dataframe\">\n",
       "  <thead>\n",
       "    <tr style=\"text-align: right;\">\n",
       "      <th></th>\n",
       "      <th>Title</th>\n",
       "      <th>Price(AED)</th>\n",
       "      <th>Date</th>\n",
       "    </tr>\n",
       "  </thead>\n",
       "  <tbody>\n",
       "    <tr>\n",
       "      <th>0</th>\n",
       "      <td>ANUA 10% Niacinamide+ 4% Tranexamic Acid Serum...</td>\n",
       "      <td>60.0</td>\n",
       "      <td>2025-06-01</td>\n",
       "    </tr>\n",
       "    <tr>\n",
       "      <th>1</th>\n",
       "      <td>ANUA 10% Niacinamide+ 4% Tranexamic Acid Serum...</td>\n",
       "      <td>60.0</td>\n",
       "      <td>2025-06-01</td>\n",
       "    </tr>\n",
       "    <tr>\n",
       "      <th>2</th>\n",
       "      <td>ANUA 10% Niacinamide+ 4% Tranexamic Acid Serum...</td>\n",
       "      <td>60.0</td>\n",
       "      <td>2025-06-01</td>\n",
       "    </tr>\n",
       "  </tbody>\n",
       "</table>\n",
       "</div>"
      ],
      "text/plain": [
       "                                               Title  Price(AED)        Date\n",
       "0  ANUA 10% Niacinamide+ 4% Tranexamic Acid Serum...        60.0  2025-06-01\n",
       "1  ANUA 10% Niacinamide+ 4% Tranexamic Acid Serum...        60.0  2025-06-01\n",
       "2  ANUA 10% Niacinamide+ 4% Tranexamic Acid Serum...        60.0  2025-06-01"
      ]
     },
     "execution_count": 59,
     "metadata": {},
     "output_type": "execute_result"
    }
   ],
   "source": [
    "import pandas as pd\n",
    "\n",
    "df=pd.read_csv(r\"C:\\Users\\affan\\AmazonWebScrapperDataset.csv\")\n",
    "df"
   ]
  },
  {
   "cell_type": "code",
   "execution_count": 60,
   "id": "f0e0fcf2-0571-4bc3-b34e-4e4db5dff69d",
   "metadata": {},
   "outputs": [],
   "source": [
    "#Automating this process by creating a function\n",
    "\n",
    "def price_check():\n",
    "    url='https://www.amazon.ae/gp/aw/d/B0CLLV2T1P/?_encoding=UTF8&pd_rd_plhdr=t&aaxitk=6be6a6774e44057af9bb7ff13921f9cf&hsa_cr_id=0&qid=1748764363&sr=1-1-e0fa1fdd-d857-4087-adda-5bd576b25987&ref_=sbx_be_s_sparkle_lsi4d_asin_0_bkgd&pd_rd_w=MNDP4&content-id=amzn1.sym.5c27a550-05a0-4f4f-b075-daf9509b9f36%3Aamzn1.sym.5c27a550-05a0-4f4f-b075-daf9509b9f36&pf_rd_p=5c27a550-05a0-4f4f-b075-daf9509b9f36&pf_rd_r=3GDX09ZR7AG8CAQ9WGQX&pd_rd_wg=a9Tqr&pd_rd_r=017e3f52-d787-46e6-827e-13c8d3161a08'\n",
    "    headers={ \"User-Agent\": \"Mozilla/5.0 (Windows NT 10.0; Win64; x64) AppleWebKit/537.36 (KHTML, like Gecko) Chrome/136.0.0.0 Safari/537.36\"}\n",
    "\n",
    "    page = requests.get(url,headers=headers)\n",
    "    soup1= BeautifulSoup(page.content,'html.parser')\n",
    "\n",
    "    soup2 = BeautifulSoup(soup1.prettify(),'html.parser')\n",
    "\n",
    "    title = soup2.find(id=\"productTitle\").get_text().strip()\n",
    "\n",
    "    price_symbol = soup2.find(class_='a-price-symbol').get_text(strip=True)\n",
    "    price_whole = soup2.find(class_='a-price-whole').get_text(strip=True)\n",
    "    price_fraction = soup2.find(class_='a-price-fraction').get_text(strip=True)\n",
    "    price = f'{price_symbol}{price_whole}{price_fraction}'\n",
    "    price=price[3:]\n",
    "\n",
    "    import datetime\n",
    "    date=datetime.date.today()\n",
    "\n",
    "    import csv\n",
    "    header = ['Title','Price(AED)','Date']\n",
    "    data = [title, price,date]\n",
    "\n",
    "    with open('AmazonWebScrapperDataset.csv','a+',newline='',encoding='UTF8') as f:\n",
    "        writer=csv.writer(f)\n",
    "        writer.writerow(data)\n"
   ]
  },
  {
   "cell_type": "code",
   "execution_count": null,
   "id": "aa156aa5-298e-4832-8193-5615b25032d5",
   "metadata": {},
   "outputs": [],
   "source": [
    "while(True):\n",
    "    price_check()\n",
    "    time.sleep(86400)"
   ]
  },
  {
   "cell_type": "code",
   "execution_count": null,
   "id": "5982ac49-a3a3-44c5-abcd-c07052b980d6",
   "metadata": {},
   "outputs": [],
   "source": [
    "import pandas as pd\n",
    "\n",
    "df=pd.read_csv(r\"C:\\Users\\affan\\AmazonWebScrapperDataset.csv\")\n",
    "df"
   ]
  },
  {
   "cell_type": "code",
   "execution_count": null,
   "id": "212c8d49-0c04-4f7a-b1d5-98869fb6ae7c",
   "metadata": {},
   "outputs": [],
   "source": []
  }
 ],
 "metadata": {
  "kernelspec": {
   "display_name": "Python 3 (ipykernel)",
   "language": "python",
   "name": "python3"
  },
  "language_info": {
   "codemirror_mode": {
    "name": "ipython",
    "version": 3
   },
   "file_extension": ".py",
   "mimetype": "text/x-python",
   "name": "python",
   "nbconvert_exporter": "python",
   "pygments_lexer": "ipython3",
   "version": "3.12.7"
  }
 },
 "nbformat": 4,
 "nbformat_minor": 5
}
